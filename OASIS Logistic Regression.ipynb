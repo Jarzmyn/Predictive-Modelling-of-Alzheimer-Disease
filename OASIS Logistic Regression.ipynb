{
 "cells": [
  {
   "cell_type": "markdown",
   "id": "0be33b55",
   "metadata": {},
   "source": [
    "# Data Transformation #"
   ]
  },
  {
   "cell_type": "code",
   "execution_count": 1,
   "id": "2f33fc37",
   "metadata": {},
   "outputs": [
    {
     "data": {
      "text/html": [
       "<div>\n",
       "<style scoped>\n",
       "    .dataframe tbody tr th:only-of-type {\n",
       "        vertical-align: middle;\n",
       "    }\n",
       "\n",
       "    .dataframe tbody tr th {\n",
       "        vertical-align: top;\n",
       "    }\n",
       "\n",
       "    .dataframe thead th {\n",
       "        text-align: right;\n",
       "    }\n",
       "</style>\n",
       "<table border=\"1\" class=\"dataframe\">\n",
       "  <thead>\n",
       "    <tr style=\"text-align: right;\">\n",
       "      <th></th>\n",
       "      <th>ID</th>\n",
       "      <th>M/F</th>\n",
       "      <th>Hand</th>\n",
       "      <th>Age</th>\n",
       "      <th>Educ</th>\n",
       "      <th>SES</th>\n",
       "      <th>MMSE</th>\n",
       "      <th>CDR</th>\n",
       "      <th>Group</th>\n",
       "      <th>Source</th>\n",
       "    </tr>\n",
       "  </thead>\n",
       "  <tbody>\n",
       "    <tr>\n",
       "      <th>0</th>\n",
       "      <td>OAS1_0001_MR1</td>\n",
       "      <td>F</td>\n",
       "      <td>R</td>\n",
       "      <td>74</td>\n",
       "      <td>12.0</td>\n",
       "      <td>3.0</td>\n",
       "      <td>29.0</td>\n",
       "      <td>0.0</td>\n",
       "      <td>Nondemented</td>\n",
       "      <td>OASIS-1</td>\n",
       "    </tr>\n",
       "    <tr>\n",
       "      <th>1</th>\n",
       "      <td>OAS1_0002_MR1</td>\n",
       "      <td>F</td>\n",
       "      <td>R</td>\n",
       "      <td>55</td>\n",
       "      <td>16.0</td>\n",
       "      <td>1.0</td>\n",
       "      <td>29.0</td>\n",
       "      <td>0.0</td>\n",
       "      <td>Nondemented</td>\n",
       "      <td>OASIS-1</td>\n",
       "    </tr>\n",
       "    <tr>\n",
       "      <th>2</th>\n",
       "      <td>OAS1_0003_MR1</td>\n",
       "      <td>F</td>\n",
       "      <td>R</td>\n",
       "      <td>73</td>\n",
       "      <td>16.0</td>\n",
       "      <td>3.0</td>\n",
       "      <td>27.0</td>\n",
       "      <td>0.5</td>\n",
       "      <td>Demented</td>\n",
       "      <td>OASIS-1</td>\n",
       "    </tr>\n",
       "    <tr>\n",
       "      <th>3</th>\n",
       "      <td>OAS1_0010_MR1</td>\n",
       "      <td>M</td>\n",
       "      <td>R</td>\n",
       "      <td>74</td>\n",
       "      <td>18.0</td>\n",
       "      <td>2.0</td>\n",
       "      <td>30.0</td>\n",
       "      <td>0.0</td>\n",
       "      <td>Nondemented</td>\n",
       "      <td>OASIS-1</td>\n",
       "    </tr>\n",
       "    <tr>\n",
       "      <th>4</th>\n",
       "      <td>OAS1_0011_MR1</td>\n",
       "      <td>F</td>\n",
       "      <td>R</td>\n",
       "      <td>52</td>\n",
       "      <td>14.0</td>\n",
       "      <td>2.0</td>\n",
       "      <td>30.0</td>\n",
       "      <td>0.0</td>\n",
       "      <td>Nondemented</td>\n",
       "      <td>OASIS-1</td>\n",
       "    </tr>\n",
       "  </tbody>\n",
       "</table>\n",
       "</div>"
      ],
      "text/plain": [
       "              ID M/F Hand  Age  Educ  SES  MMSE  CDR        Group   Source\n",
       "0  OAS1_0001_MR1   F    R   74  12.0  3.0  29.0  0.0  Nondemented  OASIS-1\n",
       "1  OAS1_0002_MR1   F    R   55  16.0  1.0  29.0  0.0  Nondemented  OASIS-1\n",
       "2  OAS1_0003_MR1   F    R   73  16.0  3.0  27.0  0.5     Demented  OASIS-1\n",
       "3  OAS1_0010_MR1   M    R   74  18.0  2.0  30.0  0.0  Nondemented  OASIS-1\n",
       "4  OAS1_0011_MR1   F    R   52  14.0  2.0  30.0  0.0  Nondemented  OASIS-1"
      ]
     },
     "execution_count": 1,
     "metadata": {},
     "output_type": "execute_result"
    }
   ],
   "source": [
    "# Data manipulation and analysis\n",
    "import pandas as pd\n",
    "import numpy as np\n",
    "import matplotlib.pyplot as plt\n",
    "import seaborn as sns\n",
    "\n",
    "# Load the first dataset\n",
    "oasis_filtered = pd.read_csv('./oasis_filtered.csv')\n",
    "# Display the first few rows of the dataset\n",
    "oasis_filtered.head()"
   ]
  },
  {
   "cell_type": "markdown",
   "id": "7738f7c2",
   "metadata": {},
   "source": [
    "**Normalization** is particularly necessary for models that are sensitive to the scale of the input data, such as logistic regression. Models like decision trees and their derivatives (random forests, XGBoost) are generally less sensitive to the scale because they are based on splitting nodes in trees rather than calculating distances or dot products.\n",
    "\n",
    "\n",
    "**Handling Attributes for Different Models:**\n",
    "\n",
    "**Logistic Regression**: Requires normalization for all numerical features and one-hot encoding for categorical features. It assumes data features on a similar scale.\n",
    "\n",
    "**Decision Trees, Random Forest, XGBoost**: These models do not require normalization necessarily but will perform better with encoded categorical variables. They handle different scales and distributions in data efficiently, but encoding helps in turning categorical variables into a usable format.\n",
    "\n",
    "**Choice of Scaling:**\n",
    "\n",
    "- For linear models such as logistic regression, standard scaling is generally preferred because it keeps the scale of the input features consistent, improving the convergence behavior of the algorithm.\n",
    "\n",
    "- For tree-based models (like decision trees, random forests, XGBoost), scaling is not strictly necessary as these models are not sensitive to the magnitude of features. They split nodes based on order instead of value. However, using scaling can lead to faster convergence during training, particularly for algorithms that utilize gradient-based optimization (like XGBoost).\n",
    "\n",
    "**Standard scaling** has been applied to the numeric columns (Age, Educ, MMSE, SES, CDR). This scales the data such that each feature has a mean of zero and a standard deviation of one, which helps in handling outliers and does not assume a fixed range for the data. SES, being somewhat ordinal, could also be scaled using standard scaling to maintain the relative distances between categories.\n",
    "\n",
    "**Label Encoding** has been applied to the categorical columns (M/F). This encodes the categories as integers.\n",
    "\n",
    "**Lambda function for Binary Transformation of Group Attribute**\n",
    "\n",
    "To convert the \"Group\" attribute into a binary classification where:\n",
    "\n",
    "\"Nondemented\" is represented by 0,\n",
    "\"Demented\" or \"Converted\" (which is considered as now \"Demented\") is represented by 1,\n",
    "we use a mapping transformation technique (`apply` function with a Lambda) where we map the current categorical values to these numeric values. A new column **Diagnosis** is created, which becomes the new target variable."
   ]
  },
  {
   "cell_type": "code",
   "execution_count": 2,
   "id": "da219e72",
   "metadata": {},
   "outputs": [
    {
     "data": {
      "text/html": [
       "<div>\n",
       "<style scoped>\n",
       "    .dataframe tbody tr th:only-of-type {\n",
       "        vertical-align: middle;\n",
       "    }\n",
       "\n",
       "    .dataframe tbody tr th {\n",
       "        vertical-align: top;\n",
       "    }\n",
       "\n",
       "    .dataframe thead th {\n",
       "        text-align: right;\n",
       "    }\n",
       "</style>\n",
       "<table border=\"1\" class=\"dataframe\">\n",
       "  <thead>\n",
       "    <tr style=\"text-align: right;\">\n",
       "      <th></th>\n",
       "      <th>ID</th>\n",
       "      <th>M/F</th>\n",
       "      <th>Hand</th>\n",
       "      <th>Age</th>\n",
       "      <th>Educ</th>\n",
       "      <th>SES</th>\n",
       "      <th>MMSE</th>\n",
       "      <th>CDR</th>\n",
       "      <th>Group</th>\n",
       "      <th>Source</th>\n",
       "      <th>Diagnosis</th>\n",
       "    </tr>\n",
       "  </thead>\n",
       "  <tbody>\n",
       "    <tr>\n",
       "      <th>0</th>\n",
       "      <td>OAS1_0001_MR1</td>\n",
       "      <td>0</td>\n",
       "      <td>R</td>\n",
       "      <td>-0.122643</td>\n",
       "      <td>-0.901332</td>\n",
       "      <td>0.508156</td>\n",
       "      <td>0.478191</td>\n",
       "      <td>-0.764869</td>\n",
       "      <td>Nondemented</td>\n",
       "      <td>OASIS-1</td>\n",
       "      <td>0</td>\n",
       "    </tr>\n",
       "    <tr>\n",
       "      <th>1</th>\n",
       "      <td>OAS1_0002_MR1</td>\n",
       "      <td>0</td>\n",
       "      <td>R</td>\n",
       "      <td>-2.050225</td>\n",
       "      <td>0.537958</td>\n",
       "      <td>-1.314609</td>\n",
       "      <td>0.478191</td>\n",
       "      <td>-0.764869</td>\n",
       "      <td>Nondemented</td>\n",
       "      <td>OASIS-1</td>\n",
       "      <td>0</td>\n",
       "    </tr>\n",
       "    <tr>\n",
       "      <th>2</th>\n",
       "      <td>OAS1_0003_MR1</td>\n",
       "      <td>0</td>\n",
       "      <td>R</td>\n",
       "      <td>-0.224095</td>\n",
       "      <td>0.537958</td>\n",
       "      <td>0.508156</td>\n",
       "      <td>-0.065249</td>\n",
       "      <td>0.560032</td>\n",
       "      <td>Demented</td>\n",
       "      <td>OASIS-1</td>\n",
       "      <td>1</td>\n",
       "    </tr>\n",
       "    <tr>\n",
       "      <th>3</th>\n",
       "      <td>OAS1_0010_MR1</td>\n",
       "      <td>1</td>\n",
       "      <td>R</td>\n",
       "      <td>-0.122643</td>\n",
       "      <td>1.257604</td>\n",
       "      <td>-0.403227</td>\n",
       "      <td>0.749911</td>\n",
       "      <td>-0.764869</td>\n",
       "      <td>Nondemented</td>\n",
       "      <td>OASIS-1</td>\n",
       "      <td>0</td>\n",
       "    </tr>\n",
       "    <tr>\n",
       "      <th>4</th>\n",
       "      <td>OAS1_0011_MR1</td>\n",
       "      <td>0</td>\n",
       "      <td>R</td>\n",
       "      <td>-2.354580</td>\n",
       "      <td>-0.181687</td>\n",
       "      <td>-0.403227</td>\n",
       "      <td>0.749911</td>\n",
       "      <td>-0.764869</td>\n",
       "      <td>Nondemented</td>\n",
       "      <td>OASIS-1</td>\n",
       "      <td>0</td>\n",
       "    </tr>\n",
       "  </tbody>\n",
       "</table>\n",
       "</div>"
      ],
      "text/plain": [
       "              ID  M/F Hand       Age      Educ       SES      MMSE       CDR  \\\n",
       "0  OAS1_0001_MR1    0    R -0.122643 -0.901332  0.508156  0.478191 -0.764869   \n",
       "1  OAS1_0002_MR1    0    R -2.050225  0.537958 -1.314609  0.478191 -0.764869   \n",
       "2  OAS1_0003_MR1    0    R -0.224095  0.537958  0.508156 -0.065249  0.560032   \n",
       "3  OAS1_0010_MR1    1    R -0.122643  1.257604 -0.403227  0.749911 -0.764869   \n",
       "4  OAS1_0011_MR1    0    R -2.354580 -0.181687 -0.403227  0.749911 -0.764869   \n",
       "\n",
       "         Group   Source  Diagnosis  \n",
       "0  Nondemented  OASIS-1          0  \n",
       "1  Nondemented  OASIS-1          0  \n",
       "2     Demented  OASIS-1          1  \n",
       "3  Nondemented  OASIS-1          0  \n",
       "4  Nondemented  OASIS-1          0  "
      ]
     },
     "execution_count": 2,
     "metadata": {},
     "output_type": "execute_result"
    }
   ],
   "source": [
    "from sklearn.preprocessing import StandardScaler, LabelEncoder\n",
    "\n",
    "# Creating instances of scaler and encoder\n",
    "scaler = StandardScaler()\n",
    "label_encoder = LabelEncoder()\n",
    "\n",
    "# Selecting columns to scale\n",
    "numeric_columns = ['Age', 'Educ', 'MMSE', 'SES', 'CDR']\n",
    "categorical_columns = ['M/F']\n",
    "\n",
    "# Applying the mapping using the lambda function\n",
    "oasis_filtered['Diagnosis'] = oasis_filtered['Group'].apply(lambda x: 1 if x in ['Demented', 'Converted'] else 0)\n",
    "\n",
    "# Applying Standard Scaling to numeric columns\n",
    "oasis_filtered[numeric_columns] = scaler.fit_transform(oasis_filtered[numeric_columns])\n",
    "\n",
    "# Applying Label Encoding to categorical columns\n",
    "for column in categorical_columns:\n",
    "    oasis_filtered[column] = label_encoder.fit_transform(oasis_filtered[column])\n",
    "\n",
    "# Display the transformed data\n",
    "oasis_filtered.head()"
   ]
  },
  {
   "cell_type": "code",
   "execution_count": 3,
   "id": "3894971e",
   "metadata": {},
   "outputs": [],
   "source": [
    "# Save to CSV\n",
    "oasis_filtered.to_csv('./oasis_filtered_1.csv', index=False)"
   ]
  },
  {
   "cell_type": "code",
   "execution_count": 4,
   "id": "7892abc1",
   "metadata": {},
   "outputs": [
    {
     "data": {
      "text/html": [
       "<div>\n",
       "<style scoped>\n",
       "    .dataframe tbody tr th:only-of-type {\n",
       "        vertical-align: middle;\n",
       "    }\n",
       "\n",
       "    .dataframe tbody tr th {\n",
       "        vertical-align: top;\n",
       "    }\n",
       "\n",
       "    .dataframe thead th {\n",
       "        text-align: right;\n",
       "    }\n",
       "</style>\n",
       "<table border=\"1\" class=\"dataframe\">\n",
       "  <thead>\n",
       "    <tr style=\"text-align: right;\">\n",
       "      <th></th>\n",
       "      <th>M/F</th>\n",
       "      <th>Age</th>\n",
       "      <th>Educ</th>\n",
       "      <th>SES</th>\n",
       "      <th>MMSE</th>\n",
       "      <th>CDR</th>\n",
       "      <th>Diagnosis</th>\n",
       "    </tr>\n",
       "  </thead>\n",
       "  <tbody>\n",
       "    <tr>\n",
       "      <th>count</th>\n",
       "      <td>608.000000</td>\n",
       "      <td>6.080000e+02</td>\n",
       "      <td>6.080000e+02</td>\n",
       "      <td>6.080000e+02</td>\n",
       "      <td>6.080000e+02</td>\n",
       "      <td>6.080000e+02</td>\n",
       "      <td>608.000000</td>\n",
       "    </tr>\n",
       "    <tr>\n",
       "      <th>mean</th>\n",
       "      <td>0.393092</td>\n",
       "      <td>-1.636118e-16</td>\n",
       "      <td>2.512610e-16</td>\n",
       "      <td>-1.782200e-16</td>\n",
       "      <td>-3.871172e-16</td>\n",
       "      <td>7.304099e-17</td>\n",
       "      <td>0.465461</td>\n",
       "    </tr>\n",
       "    <tr>\n",
       "      <th>std</th>\n",
       "      <td>0.488839</td>\n",
       "      <td>1.000823e+00</td>\n",
       "      <td>1.000823e+00</td>\n",
       "      <td>1.000823e+00</td>\n",
       "      <td>1.000823e+00</td>\n",
       "      <td>1.000823e+00</td>\n",
       "      <td>0.499216</td>\n",
       "    </tr>\n",
       "    <tr>\n",
       "      <th>min</th>\n",
       "      <td>0.000000</td>\n",
       "      <td>-4.282162e+00</td>\n",
       "      <td>-3.060267e+00</td>\n",
       "      <td>-1.314609e+00</td>\n",
       "      <td>-6.314808e+00</td>\n",
       "      <td>-7.648693e-01</td>\n",
       "      <td>0.000000</td>\n",
       "    </tr>\n",
       "    <tr>\n",
       "      <th>25%</th>\n",
       "      <td>0.000000</td>\n",
       "      <td>-5.284498e-01</td>\n",
       "      <td>-9.013319e-01</td>\n",
       "      <td>-4.032268e-01</td>\n",
       "      <td>-3.369685e-01</td>\n",
       "      <td>-7.648693e-01</td>\n",
       "      <td>0.000000</td>\n",
       "    </tr>\n",
       "    <tr>\n",
       "      <th>50%</th>\n",
       "      <td>0.000000</td>\n",
       "      <td>8.026029e-02</td>\n",
       "      <td>-1.816867e-01</td>\n",
       "      <td>-4.032268e-01</td>\n",
       "      <td>4.781914e-01</td>\n",
       "      <td>-7.648693e-01</td>\n",
       "      <td>0.000000</td>\n",
       "    </tr>\n",
       "    <tr>\n",
       "      <th>75%</th>\n",
       "      <td>1.000000</td>\n",
       "      <td>6.889703e-01</td>\n",
       "      <td>5.379585e-01</td>\n",
       "      <td>5.081557e-01</td>\n",
       "      <td>7.499113e-01</td>\n",
       "      <td>5.600325e-01</td>\n",
       "      <td>1.000000</td>\n",
       "    </tr>\n",
       "    <tr>\n",
       "      <th>max</th>\n",
       "      <td>1.000000</td>\n",
       "      <td>2.312197e+00</td>\n",
       "      <td>3.056717e+00</td>\n",
       "      <td>2.330920e+00</td>\n",
       "      <td>7.499113e-01</td>\n",
       "      <td>4.534738e+00</td>\n",
       "      <td>1.000000</td>\n",
       "    </tr>\n",
       "  </tbody>\n",
       "</table>\n",
       "</div>"
      ],
      "text/plain": [
       "              M/F           Age          Educ           SES          MMSE  \\\n",
       "count  608.000000  6.080000e+02  6.080000e+02  6.080000e+02  6.080000e+02   \n",
       "mean     0.393092 -1.636118e-16  2.512610e-16 -1.782200e-16 -3.871172e-16   \n",
       "std      0.488839  1.000823e+00  1.000823e+00  1.000823e+00  1.000823e+00   \n",
       "min      0.000000 -4.282162e+00 -3.060267e+00 -1.314609e+00 -6.314808e+00   \n",
       "25%      0.000000 -5.284498e-01 -9.013319e-01 -4.032268e-01 -3.369685e-01   \n",
       "50%      0.000000  8.026029e-02 -1.816867e-01 -4.032268e-01  4.781914e-01   \n",
       "75%      1.000000  6.889703e-01  5.379585e-01  5.081557e-01  7.499113e-01   \n",
       "max      1.000000  2.312197e+00  3.056717e+00  2.330920e+00  7.499113e-01   \n",
       "\n",
       "                CDR   Diagnosis  \n",
       "count  6.080000e+02  608.000000  \n",
       "mean   7.304099e-17    0.465461  \n",
       "std    1.000823e+00    0.499216  \n",
       "min   -7.648693e-01    0.000000  \n",
       "25%   -7.648693e-01    0.000000  \n",
       "50%   -7.648693e-01    0.000000  \n",
       "75%    5.600325e-01    1.000000  \n",
       "max    4.534738e+00    1.000000  "
      ]
     },
     "execution_count": 4,
     "metadata": {},
     "output_type": "execute_result"
    }
   ],
   "source": [
    "oasis_filtered.describe()"
   ]
  },
  {
   "cell_type": "markdown",
   "id": "f42c0bc4",
   "metadata": {},
   "source": [
    "**Note: Hand (All subjects were right-handed so this column was not used in the analysis)**"
   ]
  },
  {
   "cell_type": "markdown",
   "id": "0ec27219",
   "metadata": {},
   "source": [
    "## Correlation Analysis ##"
   ]
  },
  {
   "cell_type": "markdown",
   "id": "064bef77",
   "metadata": {},
   "source": [
    "To explore relationships between demographic factors, cognitive scores, and group classifications in the Oasis filtered dataset, we will look into correlations between these variables and visualize how they interact. This will help us understand potential predictors for Alzheimer’s disease and how different variables might influence cognitive health. \n",
    "Let’s start by calculating and visualizing the correlations among the numerical variables:\n",
    "\n",
    "1. Correlation Analysis: This will give us a quantitative measure of the relationships between numerical variables such as Age, Gender (M/F), education, socioeconomic status, MMSE, CDR and Diagnosis."
   ]
  },
  {
   "cell_type": "code",
   "execution_count": 5,
   "id": "8c13b5aa",
   "metadata": {},
   "outputs": [
    {
     "data": {
      "image/png": "[encoded data removed]",
      "text/plain": [
       "<Figure size 1000x800 with 2 Axes>"
      ]
     },
     "metadata": {},
     "output_type": "display_data"
    }
   ],
   "source": [
    "# Calculate correlations among numerical variables\n",
    "correlation_matrix = oasis_filtered[['M/F','Age', 'Educ', 'SES', 'MMSE', 'CDR', 'Diagnosis']].corr()\n",
    "\n",
    "# Plotting the correlation matrix\n",
    "plt.figure(figsize=(10, 8))\n",
    "sns.heatmap(correlation_matrix, annot=True, cmap='coolwarm', fmt=\".2f\", linewidths=.5)\n",
    "plt.title('Correlation Matrix')\n",
    "plt.show()"
   ]
  },
  {
   "cell_type": "markdown",
   "id": "5ad365ec",
   "metadata": {},
   "source": [
    "\n",
    "\n",
    "The correlation heatmap displays the correlation coefficients between numerical variables, which range from -1 (perfect negative correlation) to +1 (perfect positive correlation). Here are key observations:\n",
    "\n",
    "1. **CDR and MMSE (-0.70):**\n",
    "\n",
    "There is a strong negative correlation. As the Mini-Mental State Examination (MMSE) scores decrease (indicating cognitive impairment), the Clinical Dementia Rating (CDR) scores increase (indicating greater severity of dementia). This is consistent with the expectation that lower cognitive performance is associated with higher levels of dementia.\n",
    "\n",
    "2. **CDR and Diagnosis (0.81):**\n",
    "\n",
    "There is a strong positive correlation which implies As the CDR score increases, indicating more severe dementia symptoms, the likelihood of a dementia diagnosis (binary, 1) increases. This correlation confirms the predictive value of CDR in determining dementia status.\n",
    "\n",
    "3. **MMSE and Diagnosis (-0.56):**\n",
    "\n",
    "There is a moderate negative correlation. Lower MMSE scores, which suggest poorer cognitive function, correlate significantly with a positive dementia diagnosis. This relationship supports the use of MMSE as an effective tool in cognitive assessment related to dementia.\n",
    "\n",
    "4. **Educ and SES (-0.69):**\n",
    "\n",
    "There is a strong negative correlation. This might seem surprising as higher education levels are typically associated with higher SES. However, in this dataset, it appears that within the demographic sampled, those with higher education might belong to a lower SES. This could suggest that the dataset includes individuals who have attained higher education but do not necessarily hold high-income jobs, or it might reflect a specific demographic characteristics or the way SES is coded .\n",
    "\n",
    "5. **M/F and Diagnosis (0.19):**\n",
    "\n",
    "There is a moderate positive correlation. This suggests a trend where one gender (likely males, encoded as 1) is slightly more associated with dementia diagnoses than the other. This could reflect gender-specific differences in the prevalence or detection of dementia.\n",
    "\n",
    "6. **Age and Diagnosis (0.16):**\n",
    "\n",
    "There is a  positive correlation, though it is relatively weak. This suggests that older age is associated with higher CDR scores, which aligns with the general understanding that the risk of dementia increases with age.\n"
   ]
  },
  {
   "cell_type": "markdown",
   "id": "281c7011",
   "metadata": {},
   "source": [
    "# Class Balance #"
   ]
  },
  {
   "cell_type": "code",
   "execution_count": 6,
   "id": "aa1ee040",
   "metadata": {},
   "outputs": [
    {
     "name": "stdout",
     "output_type": "stream",
     "text": [
      "0    325\n",
      "1    283\n",
      "Name: Diagnosis, dtype: int64\n"
     ]
    }
   ],
   "source": [
    "# Get the value counts for the Diagnosis column\n",
    "diagnosis_counts = oasis_filtered['Diagnosis'].value_counts()\n",
    "print(diagnosis_counts)"
   ]
  },
  {
   "cell_type": "markdown",
   "id": "b7c6dbf3",
   "metadata": {},
   "source": [
    "The classes in the diagnosis column, with 325 entries for 'Nondemented' and 283 entries for 'Demented', are relatively balanced. Here, the split is roughly 53% (Nondemented) to 47% (Demented), which is quite close to an even 50:50 distribution.  Since the classes are nearly balanced, we can proceed with the modeling approaches without initial concerns about significant risk of bias toward one class over the other or a class imbalance. "
   ]
  },
  {
   "cell_type": "markdown",
   "id": "5acf013d",
   "metadata": {},
   "source": [
    "# Logistic Regression #"
   ]
  },
  {
   "cell_type": "markdown",
   "id": "cdf80c4c",
   "metadata": {},
   "source": [
    "Regularization adjusts the complexity of the model, reducing overfit and improving the model's ability to generalize.\n",
    "Cross-validation evaluates how well your model, including its regularization settings, performs on unseen data. It can also help you select the optimal level of regularization (e.g., choosing the regularization strength parameter).\n",
    "\n",
    "**Logistic Regression with L2 Regularization**\n",
    "\n",
    "**Why L2 Regularization?**\n",
    "\n",
    "- Logistic regression with L2 regularization (also known as Ridge regression in linear models) helps to prevent overfitting by penalizing large coefficients in the model. This regularization method adds a penalty term which is equal to the square of the magnitude of coefficients.\n",
    "- L2 regularization is particularly useful when dealing with multicollinearity and helps to improve model generalization.\n",
    "\n",
    "**Model Building with k-Fold Cross-Validation and GridSearchCV**\n",
    "\n",
    "**k-Fold Cross-Validation:**\n",
    "\n",
    "- This method splits the dataset into k smaller sets (or folds). The model is trained on k-1 of these folds, with the remaining part used as the test set. This process is repeated k times, with each of the k folds used exactly once as the test set.\n",
    "- The advantage is that all observations are used for both training and testing, and each observation is used for testing exactly once. This provides a robust estimate of model performance.\n",
    "\n",
    "**GridSearchCV:**\n",
    "\n",
    "- GridSearchCV is used to exhaustively search through a specified parameter grid for a given model. It helps in finding the best combination of parameters.\n",
    "- It uses cross-validation internally to evaluate the performance of each parameter combination, ensuring that the chosen model is both well-tuned and robust.\n",
    "\n",
    "Next, we'll set up the k-fold cross-validation and use GridSearchCV to optimize the hyperparameters for our logistic regression model. We'll explore hyperparameters like the regularization strength (C in logistic regression) and possibly others like solver if necessary. Let's proceed with setting up and training the model. "
   ]
  },
  {
   "cell_type": "code",
   "execution_count": 7,
   "id": "98d80e69",
   "metadata": {},
   "outputs": [
    {
     "name": "stdout",
     "output_type": "stream",
     "text": [
      "Number of mislabeled points out of a total 122 points : 5\n"
     ]
    }
   ],
   "source": [
    "from sklearn.model_selection import train_test_split, GridSearchCV, cross_val_score\n",
    "from sklearn.linear_model import LogisticRegression\n",
    "from sklearn.metrics import classification_report, roc_curve, auc, roc_auc_score, accuracy_score\n",
    "import matplotlib.pyplot as plt\n",
    "import numpy as np\n",
    "\n",
    "# Selecting relevant features and target\n",
    "X = oasis_filtered[['Age', 'M/F', 'Educ', 'SES', 'MMSE', 'CDR']]\n",
    "y = oasis_filtered['Diagnosis']\n",
    "\n",
    "# Splitting data into training and testing sets\n",
    "X_train, X_test, y_train, y_test = train_test_split(X, y, test_size=0.2, random_state=42)\n",
    "\n",
    "# Setting up the logistic regression model with L2 regularization\n",
    "logreg = LogisticRegression(penalty='l2', max_iter=10000)\n",
    "\n",
    "# Setting up GridSearchCV to find the best regularization strength\n",
    "param_grid = {'C': np.logspace(-4, 4, 20), 'solver': ['liblinear']} # Regularization strengths\n",
    "\n",
    "# Setup GridSearch with 5-fold cross-validation\n",
    "grid_search = GridSearchCV(logreg, param_grid, cv=5, scoring='accuracy')\n",
    "\n",
    "# Fit the model\n",
    "grid_search.fit(X_train, y_train)\n",
    "\n",
    "# output the number of mislabeled points\n",
    "print('Number of mislabeled points out of a total %d points : %d' % (X_test.shape[0], (y_test != grid_search.predict(X_test)).sum()))"
   ]
  },
  {
   "cell_type": "markdown",
   "id": "4d1de06d",
   "metadata": {},
   "source": [
    "The model has been trained using GridSearchCV with a logistic regression estimator, exploring 20 different values for the regularization strength (C) across 5 folds of the data. Here are the best parameters and the best score from the grid search:\n",
    "\n",
    "**Best Parameters and Best Score**\n",
    "\n",
    "- Best Parameters: This tells us the optimal settings for the hyperparameters C (regularization strength) and solver that were found during the grid search.\n",
    "- Best Score: This is the highest score achieved during the grid search, based on the chosen scoring method (accuracy)."
   ]
  },
  {
   "cell_type": "code",
   "execution_count": 8,
   "id": "4ba54b24",
   "metadata": {},
   "outputs": [
    {
     "data": {
      "text/plain": [
       "({'C': 0.08858667904100823, 'solver': 'liblinear'}, 0.9691142436355985)"
      ]
     },
     "execution_count": 8,
     "metadata": {},
     "output_type": "execute_result"
    }
   ],
   "source": [
    "# Best parameters and best score from the grid search\n",
    "best_params = grid_search.best_params_\n",
    "best_score = grid_search.best_score_\n",
    "\n",
    "best_params, best_score"
   ]
  },
  {
   "cell_type": "markdown",
   "id": "4f51afbc",
   "metadata": {},
   "source": [
    "The best parameters found by the GridSearchCV for the logistic regression model are:\n",
    "\n",
    "- C (Regularization Strength): 0.08858667904100824\n",
    "- Solver: 'liblinear'\n",
    "\n",
    "The best cross-validation accuracy score achieved with these parameters is approximately 96.91%.\n",
    "\n",
    "Let's proceed with evaluating the model on the test set using these best parameters"
   ]
  },
  {
   "cell_type": "markdown",
   "id": "c1c1634b",
   "metadata": {},
   "source": [
    "**Model Evaluation on Test Set**\n",
    "\n",
    "Now, let's use these best parameters to evaluate the model on the test set. We'll calculate various performance metrics, and also visualize the ROC curve to assess the model's ability to distinguish between the two classes (demented vs. non-demented)."
   ]
  },
  {
   "cell_type": "code",
   "execution_count": 9,
   "id": "b13de292",
   "metadata": {},
   "outputs": [
    {
     "name": "stdout",
     "output_type": "stream",
     "text": [
      "0.9590163934426229\n",
      "Number of mislabeled points out of a total 122 points : 5\n"
     ]
    },
    {
     "data": {
      "image/png": "[encoded data removed]",
      "text/plain": [
       "<Figure size 640x480 with 2 Axes>"
      ]
     },
     "metadata": {},
     "output_type": "display_data"
    }
   ],
   "source": [
    "from sklearn.metrics import confusion_matrix\n",
    "from sklearn.metrics import ConfusionMatrixDisplay\n",
    "\n",
    "# Use the best estimator from the grid search\n",
    "best_model = grid_search.best_estimator_\n",
    "\n",
    "# Predictions on the test set\n",
    "y_pred = best_model.predict(X_test)\n",
    "y_proba = best_model.predict_proba(X_test)[:, 1]  # Probabilities for the positive class\n",
    "\n",
    "# Evaluation metrics\n",
    "report = classification_report(y_test, y_pred)\n",
    "conf_matrix = confusion_matrix(y_test, y_pred)\n",
    "accuracy = accuracy_score(y_test, y_pred)\n",
    "\n",
    "print(accuracy)\n",
    "\n",
    "report, conf_matrix\n",
    "\n",
    "# Plotting the confusion matrix\n",
    "conf_matrix=confusion_matrix(y_test, y_pred)\n",
    "labels=['Non-demented', 'Demented']\n",
    "ConfusionMatrixDisplay(conf_matrix, display_labels=labels).plot()\n",
    "\n",
    "# output the number of mislabeled points\n",
    "print('Number of mislabeled points out of a total %d points : %d' % (X_test.shape[0], (y_test != best_model.predict(X_test)).sum()))"
   ]
  },
  {
   "cell_type": "code",
   "execution_count": 10,
   "id": "7e704bfb",
   "metadata": {},
   "outputs": [
    {
     "name": "stdout",
     "output_type": "stream",
     "text": [
      "              precision    recall  f1-score   support\n",
      "\n",
      "           0       0.92      1.00      0.96        56\n",
      "           1       1.00      0.92      0.96        66\n",
      "\n",
      "    accuracy                           0.96       122\n",
      "   macro avg       0.96      0.96      0.96       122\n",
      "weighted avg       0.96      0.96      0.96       122\n",
      "\n"
     ]
    }
   ],
   "source": [
    "print(classification_report(y_test, y_pred))"
   ]
  },
  {
   "cell_type": "markdown",
   "id": "9e1daeb0",
   "metadata": {},
   "source": [
    "**Model Evaluation Summary**\n",
    "\n",
    "The logistic regression model evaluated on the test set produced the following results:\n",
    "\n",
    "- Precision: How many selected items are relevant.\n",
    "    - For non-demented (0): 92%\n",
    "    - For demented (1): 100%\n",
    "    \n",
    "- Recall (sensitivity): How many relevant items are selected.\n",
    "    - For non-demented (0): 100%\n",
    "    - For demented (1): 92%\n",
    "    \n",
    "- F1-Score: A balance between precision and recall.\n",
    "    - Both classes have an F1-score of 96%.\n",
    "    \n",
    "- Accuracy: Overall, the model correctly classified 96% of the cases in the test set.\n",
    "\n",
    "- Confusion Matrix:\n",
    "    - True negatives (non-demented correctly identified): 56\n",
    "    - True positives (demented correctly identified): 61\n",
    "    - False negatives (demented incorrectly identified as non-demented): 5\n",
    "    - False positives (non-demented incorrectly identified as demented): 0\n",
    "    \n",
    "- ROC-AUC: The area under the ROC curve is about 0.967, indicating a very good performance of the model in distinguishing between the demented and non-demented cases."
   ]
  },
  {
   "cell_type": "markdown",
   "id": "212646f4",
   "metadata": {},
   "source": [
    "**ROC Curve Visualization**"
   ]
  },
  {
   "cell_type": "code",
   "execution_count": 11,
   "id": "33f9fa90",
   "metadata": {},
   "outputs": [
    {
     "name": "stdout",
     "output_type": "stream",
     "text": [
      "0.9672619047619048\n"
     ]
    },
    {
     "data": {
      "image/png": "[encoded data removed]",
      "text/plain": [
       "<Figure size 800x600 with 1 Axes>"
      ]
     },
     "metadata": {},
     "output_type": "display_data"
    }
   ],
   "source": [
    "# ROC curve and AUC\n",
    "fpr, tpr, thresholds = roc_curve(y_test, y_proba)\n",
    "roc_auc = auc(fpr, tpr)\n",
    "\n",
    "print(roc_auc)\n",
    "\n",
    "# Plotting the ROC Curve\n",
    "plt.figure(figsize=(8, 6))\n",
    "plt.plot(fpr, tpr, color='darkorange', lw=2, label=f'ROC curve (area = {roc_auc:.2f})')\n",
    "plt.plot([0, 1], [0, 1], color='navy', lw=2, linestyle='--')\n",
    "plt.xlim([0.0, 1.0])\n",
    "plt.ylim([0.0, 1.05])\n",
    "plt.xlabel('False Positive Rate')\n",
    "plt.ylabel('True Positive Rate')\n",
    "plt.title('Receiver Operating Characteristic (ROC)')\n",
    "plt.legend(loc=\"lower right\")\n",
    "plt.show()"
   ]
  },
  {
   "cell_type": "markdown",
   "id": "20ff34b7",
   "metadata": {},
   "source": [
    "The ROC curve shown above provides a graphical representation of the logistic regression model's ability to distinguish between two groups: people who have dementia and those who don't. The orange line represents our model's performance. It's very close to the top left corner, indicating that our model does a great job at correctly identifying people with dementia (high true positive rate or sensitivity) and not mistakenly identifying those without it (low false positive rate or specificity). The area under this orange line, which scores about 0.967, shows how effectively the model performs.\n",
    "\n",
    "The dotted blue line represents a random guess, akin to flipping a coin, where the chances of being correct or incorrect are equal. If our model did no better than random guessing, the orange line would align with this dotted line. The further the orange line is from the blue dotted line, the better our model is at making predictions.\n",
    "\n",
    "Based on the curve and the area under it, we can trust this model to accurately predict whether someone has dementia based on the features used—like cognitive scores (MMSE, CDR), socio-demographic data (Age, SES, Educ), and gender (M/F)—are practically relevant and are typically accessible in clinical settings. This makes the model not only theoretically effective but also practically useful in real-world scenarios where medical professionals might assess dementia risk. It's reliable and performs significantly better than a random guess, as evidenced by the curve being far from the dotted line and close to the perfect score area."
   ]
  },
  {
   "cell_type": "code",
   "execution_count": 12,
   "id": "be19ff2a",
   "metadata": {},
   "outputs": [
    {
     "name": "stdout",
     "output_type": "stream",
     "text": [
      "Total training time: 1.1937s\n",
      "Total prediction time: 0.0040s\n",
      "Processing time per sample: 0.0020s/sample\n"
     ]
    }
   ],
   "source": [
    "import time\n",
    "\n",
    "# Start the timer for the training process\n",
    "start_time = time.time()\n",
    "\n",
    "# Fit the model using GridSearchCV\n",
    "grid_search.fit(X_train, y_train)\n",
    "\n",
    "# End the training timer and start the prediction timer\n",
    "train_time = time.time() - start_time\n",
    "start_time = time.time()\n",
    "\n",
    "# Predictions on the test set\n",
    "y_pred = grid_search.best_estimator_.predict(X_test)\n",
    "\n",
    "# End the prediction timer\n",
    "predict_time = time.time() - start_time\n",
    "\n",
    "# Total samples processed (training + testing)\n",
    "total_samples = len(X_train) + len(X_test)\n",
    "\n",
    "# Calculate the time per sample\n",
    "time_per_sample = (train_time + predict_time) / total_samples\n",
    "\n",
    "print(f\"Total training time: {train_time:.4f}s\")\n",
    "print(f\"Total prediction time: {predict_time:.4f}s\")\n",
    "print(f\"Processing time per sample: {time_per_sample:.4f}s/sample\")"
   ]
  }
 ],
 "metadata": {
  "kernelspec": {
   "display_name": "Python 3 (ipykernel)",
   "language": "python",
   "name": "python3"
  },
  "language_info": {
   "codemirror_mode": {
    "name": "ipython",
    "version": 3
   },
   "file_extension": ".py",
   "mimetype": "text/x-python",
   "name": "python",
   "nbconvert_exporter": "python",
   "pygments_lexer": "ipython3",
   "version": "3.7.8"
  }
 },
 "nbformat": 4,
 "nbformat_minor": 5
}
